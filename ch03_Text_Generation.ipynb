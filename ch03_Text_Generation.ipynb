{
 "cells": [
  {
   "cell_type": "code",
   "execution_count": 2,
   "metadata": {},
   "outputs": [],
   "source": [
    "import openai"
   ]
  },
  {
   "cell_type": "code",
   "execution_count": null,
   "metadata": {},
   "outputs": [],
   "source": [
    "client = openai.OpenAI(api_key = \"나의 시크릿 api 키\")"
   ]
  },
  {
   "cell_type": "code",
   "execution_count": null,
   "metadata": {},
   "outputs": [],
   "source": [
    "# 기본 질문하기\n",
    "response = client.chat.completions.create(\n",
    "    model = \"gpt-4o-mini\",\n",
    "    message = [{\"role\":\"user\", \"content\":\"say merong only\"}],\n",
    "    temperature=1, # 온도가 높으면 미친놈\n",
    "    top_p=1, \n",
    "    presence_penalty=1,\n",
    "    frequency_penalty=1,\n",
    "    n=1,\n",
    "    max_tokens = 300,\n",
    "    stop = None,\n",
    "    seed = None,\n",
    "    tools = None,\n",
    "    tool_choice = None,\n",
    "    response_format = None\n",
    ")"
   ]
  },
  {
   "cell_type": "code",
   "execution_count": 4,
   "metadata": {},
   "outputs": [
    {
     "name": "stdout",
     "output_type": "stream",
     "text": [
      "ChatCompletion(id='chatcmpl-ARuHz5lIqSo7mcmkSzmTrULALXtHg', choices=[Choice(finish_reason='stop', index=0, logprobs=None, message=ChatCompletionMessage(content='Making a pizza at home can be a fun and rewarding experience! Here’s a simple recipe to guide you through the process.\\n\\n### Ingredients\\n\\n#### For the Dough:\\n- 2 ¼ teaspoons active dry yeast (1 packet)\\n- 1 teaspoon sugar\\n- ¾ cup warm water (about 110°F or 43°C)\\n- 2 cups all-purpose flour (plus extra for dusting)\\n- 1 teaspoon salt\\n- 1 tablespoon olive oil\\n\\n#### For the Toppings:\\n- 1 cup pizza sauce (store-bought or homemade)\\n- 2 cups shredded mozzarella cheese\\n- Toppings of your choice (pepperoni, bell peppers, onions, mushrooms, olives, etc.)\\n- Dried oregano or basil (optional)\\n- Olive oil (for brushing)\\n\\n### Instructions\\n\\n#### Step 1: Prepare the Dough\\n1. **Activate Yeast**: In a small bowl, combine warm water, sugar, and yeast. Let it sit for about 5-10 minutes until it becomes frothy.\\n   \\n2. **Mix Dough**: In a large mixing bowl, combine the flour and salt. Make a well in the center and pour in the yeast mixture and olive oil. Mix until the dough begins to come together.\\n\\n3. **Knead**: Turn the dough onto a floured surface and knead for about 5-7 minutes until it’s smooth and elastic. Add a little more flour if the dough is too sticky.\\n\\n4. **First Rise**: Place the dough in a lightly greased bowl, cover it with a damp cloth or plastic wrap, and let it rise in a warm place for about 1 hour or until it has doubled in size.\\n\\n#### Step 2: Prepare the Pizza\\n1. **Preheat Oven**: Preheat your oven to 475°F (245°C) and place a pizza stone or baking sheet inside to heat.\\n\\n2. **Shape Dough**: Once the dough has risen, punch it down to release the air. Transfer it to a floured surface and roll it out to your desired thickness (usually about 12 inches for a standard pizza).\\n\\n3. **Transfer Dough**: If using a pizza stone, transfer the rolled-out dough onto a piece of parchment paper. If using a baking sheet, just place it on the greased sheet.\\n\\n4. **Add Sauce and Toppings**: Spread a layer of pizza sauce evenly over the dough, leaving a small border around the edges. Sprinkle mozzarella cheese on top and add your desired toppings.\\n\\n5. **Optional Seasoning**: Sprinkle with dried oregano or basil for extra flavor.\\n\\n6. **Brush with Olive Oil**: Lightly brush the edges of the crust with olive oil for a golden finish.\\n\\n#### Step 3: Bake the Pizza\\n1. **Bake**: Carefully slide the pizza (or parchment paper) onto the hot pizza stone or place the baking sheet in the oven. Bake for about 10-15 minutes, or until the crust is golden brown and the cheese is bubbling.\\n\\n2. **Cool & Slice**: Remove the pizza from the oven and let it cool for a few minutes. Slice it into wedges and serve hot.\\n\\n### Enjoy!\\nPizza is customizable, so feel free to experiment with different sauces, cheeses, and toppings to suit your tastes. Enjoy your homemade pizza!', refusal=None, role='assistant', audio=None, function_call=None, tool_calls=None))], created=1731214595, model='gpt-4o-mini-2024-07-18', object='chat.completion', service_tier=None, system_fingerprint='fp_0ba0d124f1', usage=CompletionUsage(completion_tokens=680, prompt_tokens=14, total_tokens=694, completion_tokens_details=CompletionTokensDetails(accepted_prediction_tokens=0, audio_tokens=0, reasoning_tokens=0, rejected_prediction_tokens=0), prompt_tokens_details=PromptTokensDetails(audio_tokens=0, cached_tokens=0)))\n"
     ]
    }
   ],
   "source": [
    "response = client.chat.completions.create(\n",
    "    model=\"gpt-4o-mini\",\n",
    "    messages = [{\"role\": \"user\", \"content\": \"Tell me how to make a pizza\"}]\n",
    ")\n",
    "print(response)"
   ]
  },
  {
   "cell_type": "code",
   "execution_count": 5,
   "metadata": {},
   "outputs": [
    {
     "name": "stdout",
     "output_type": "stream",
     "text": [
      "Making a pizza at home can be a fun and rewarding experience! Here’s a simple recipe to guide you through the process.\n",
      "\n",
      "### Ingredients\n",
      "\n",
      "#### For the Dough:\n",
      "- 2 ¼ teaspoons active dry yeast (1 packet)\n",
      "- 1 teaspoon sugar\n",
      "- ¾ cup warm water (about 110°F or 43°C)\n",
      "- 2 cups all-purpose flour (plus extra for dusting)\n",
      "- 1 teaspoon salt\n",
      "- 1 tablespoon olive oil\n",
      "\n",
      "#### For the Toppings:\n",
      "- 1 cup pizza sauce (store-bought or homemade)\n",
      "- 2 cups shredded mozzarella cheese\n",
      "- Toppings of your choice (pepperoni, bell peppers, onions, mushrooms, olives, etc.)\n",
      "- Dried oregano or basil (optional)\n",
      "- Olive oil (for brushing)\n",
      "\n",
      "### Instructions\n",
      "\n",
      "#### Step 1: Prepare the Dough\n",
      "1. **Activate Yeast**: In a small bowl, combine warm water, sugar, and yeast. Let it sit for about 5-10 minutes until it becomes frothy.\n",
      "   \n",
      "2. **Mix Dough**: In a large mixing bowl, combine the flour and salt. Make a well in the center and pour in the yeast mixture and olive oil. Mix until the dough begins to come together.\n",
      "\n",
      "3. **Knead**: Turn the dough onto a floured surface and knead for about 5-7 minutes until it’s smooth and elastic. Add a little more flour if the dough is too sticky.\n",
      "\n",
      "4. **First Rise**: Place the dough in a lightly greased bowl, cover it with a damp cloth or plastic wrap, and let it rise in a warm place for about 1 hour or until it has doubled in size.\n",
      "\n",
      "#### Step 2: Prepare the Pizza\n",
      "1. **Preheat Oven**: Preheat your oven to 475°F (245°C) and place a pizza stone or baking sheet inside to heat.\n",
      "\n",
      "2. **Shape Dough**: Once the dough has risen, punch it down to release the air. Transfer it to a floured surface and roll it out to your desired thickness (usually about 12 inches for a standard pizza).\n",
      "\n",
      "3. **Transfer Dough**: If using a pizza stone, transfer the rolled-out dough onto a piece of parchment paper. If using a baking sheet, just place it on the greased sheet.\n",
      "\n",
      "4. **Add Sauce and Toppings**: Spread a layer of pizza sauce evenly over the dough, leaving a small border around the edges. Sprinkle mozzarella cheese on top and add your desired toppings.\n",
      "\n",
      "5. **Optional Seasoning**: Sprinkle with dried oregano or basil for extra flavor.\n",
      "\n",
      "6. **Brush with Olive Oil**: Lightly brush the edges of the crust with olive oil for a golden finish.\n",
      "\n",
      "#### Step 3: Bake the Pizza\n",
      "1. **Bake**: Carefully slide the pizza (or parchment paper) onto the hot pizza stone or place the baking sheet in the oven. Bake for about 10-15 minutes, or until the crust is golden brown and the cheese is bubbling.\n",
      "\n",
      "2. **Cool & Slice**: Remove the pizza from the oven and let it cool for a few minutes. Slice it into wedges and serve hot.\n",
      "\n",
      "### Enjoy!\n",
      "Pizza is customizable, so feel free to experiment with different sauces, cheeses, and toppings to suit your tastes. Enjoy your homemade pizza!\n"
     ]
    }
   ],
   "source": [
    "print(response.choices[0].message.content)"
   ]
  },
  {
   "cell_type": "code",
   "execution_count": 6,
   "metadata": {},
   "outputs": [
    {
     "name": "stdout",
     "output_type": "stream",
     "text": [
      "CompletionUsage(completion_tokens=680, prompt_tokens=14, total_tokens=694, completion_tokens_details=CompletionTokensDetails(accepted_prediction_tokens=0, audio_tokens=0, reasoning_tokens=0, rejected_prediction_tokens=0), prompt_tokens_details=PromptTokensDetails(audio_tokens=0, cached_tokens=0))\n"
     ]
    }
   ],
   "source": [
    "print(response.usage)"
   ]
  },
  {
   "cell_type": "code",
   "execution_count": 7,
   "metadata": {},
   "outputs": [
    {
     "name": "stdout",
     "output_type": "stream",
     "text": [
      "총 소모 비용 : 0.5351148839999998원\n"
     ]
    }
   ],
   "source": [
    "total_bill_USD =(response.usage.completion_tokens*0.0006+response.usage.prompt_tokens*0.00015)/1000\n",
    "total_bill_KRW = total_bill_USD*1304.84\n",
    "print(\"총 소모 비용 : {}원\".format(total_bill_KRW))"
   ]
  },
  {
   "cell_type": "code",
   "execution_count": 8,
   "metadata": {},
   "outputs": [
    {
     "name": "stdout",
     "output_type": "stream",
     "text": [
      "2020년 월드 시리즈의 우승팀은 로스앤젤레스 다저스(Los Angeles Dodgers)입니다. 다저스는 탬파베이 레이스(Tampa Bay Rays)를 상대로 시리즈를 4승 2패로 이기고 32년 만에 우승을 차지했습니다.\n"
     ]
    }
   ],
   "source": [
    "# 역할 부여하기\n",
    "response = client.chat.completions.create(\n",
    "    model = \"gpt-4o-mini\",\n",
    "    messages=[{\"role\":\"system\", \"content\":\" you are a helpful assistant that answers questions in Korean\"},\n",
    "              {\"role\":\"user\", \"content\": 'who is the winner of 2020 world series'}]\n",
    ")\n",
    "print(response.choices[0].message.content)"
   ]
  },
  {
   "cell_type": "code",
   "execution_count": null,
   "metadata": {},
   "outputs": [
    {
     "name": "stdout",
     "output_type": "stream",
     "text": [
      "I'm sorry, but I can't provide that information.\n"
     ]
    }
   ],
   "source": [
    "# 거절도 하기\n",
    "response = client.chat.completions.create(\n",
    "    model = \"gpt-4o-mini\",\n",
    "    messages=[{\"role\":\"system\", \"content\":\" you are a chatbot that refuse to answer and say sorry when users ask questions\"},\n",
    "              {\"role\":\"user\", \"content\": 'who is the winner of 2020 world series'}]\n",
    ")\n",
    "print(response.choices[0].message.content)\n",
    "# role:system이 잘 작동되는 것을 알 수 있음"
   ]
  },
  {
   "cell_type": "code",
   "execution_count": null,
   "metadata": {},
   "outputs": [
    {
     "name": "stdout",
     "output_type": "stream",
     "text": [
      "The 2002 FIFA World Cup, co-hosted by South Korea and Japan, brought significant attention to South Korea for several reasons:\n",
      "\n",
      "1. **Historic Performance**: South Korea made an unprecedented run to the semifinals, becoming the first Asian nation to reach that stage of the World Cup. They defeated several strong teams, including Italy and Spain, which shocked the football world and garnered global attention.\n",
      "\n",
      "2. **Co-Hosting the Tournament**: As one of the two host nations, South Korea benefitted from the spotlight naturally associated with the World Cup. Being in the host nation spotlight allowed them to showcase their culture and hospitality to a global audience.\n",
      "\n",
      "3. **Passionate Fanbase**: The South Korean fans were incredibly passionate, creating an electric atmosphere in the stadiums throughout the tournament. Their support played a significant role in boosting team morale and captivated audiences worldwide.\n",
      "\n",
      "4. **Cultural Impact**: The tournament served as a platform for South Korean culture, including traditional music, food, and other cultural elements, to gain international recognition.\n",
      "\n",
      "5. **Media Coverage**: Their unexpected success led to extensive media coverage, not only highlighting their matches but also the story of South Korea’s journey in the tournament, which contributed to their visibility on the world stage.\n",
      "\n",
      "Overall, South Korea's remarkable performance, combined with the co-hosting of the tournament, made them the center of attention and analysis during the 2002 FIFA World Cup.\n"
     ]
    }
   ],
   "source": [
    "# 이전 대화를 포함하여 답변하기\n",
    "response = client.chat.completions.create(\n",
    "    model=\"gpt-4o-mini\",\n",
    "    messages = [\n",
    "        {\"role\":\"user\", \"content\": \" what nationality gets spotlight in 2002 world cup\"},\n",
    "        {\"role\":\"assistant\", \"content\": \"Korean is the answer of question\"},\n",
    "        {\"role\":\"user\", \"content\": \" explain specifically why the nationality get spotlioght\"},\n",
    "\n",
    "    ]\n",
    ")\n",
    "print(response.choices[0].message.content)"
   ]
  },
  {
   "cell_type": "code",
   "execution_count": 11,
   "metadata": {},
   "outputs": [
    {
     "name": "stdout",
     "output_type": "stream",
     "text": [
      "CompletionUsage(completion_tokens=289, prompt_tokens=42, total_tokens=331, completion_tokens_details=CompletionTokensDetails(accepted_prediction_tokens=0, audio_tokens=0, reasoning_tokens=0, rejected_prediction_tokens=0), prompt_tokens_details=PromptTokensDetails(audio_tokens=0, cached_tokens=0))\n"
     ]
    }
   ],
   "source": [
    "print(response.usage)"
   ]
  },
  {
   "cell_type": "code",
   "execution_count": 12,
   "metadata": {},
   "outputs": [
    {
     "name": "stdout",
     "output_type": "stream",
     "text": [
      "총 소모 비용 : 0.234479748원\n"
     ]
    }
   ],
   "source": [
    "total_bill_USD =(response.usage.completion_tokens*0.0006+response.usage.prompt_tokens*0.00015)/1000\n",
    "total_bill_KRW = total_bill_USD*1304.84\n",
    "print(\"총 소모 비용 : {}원\".format(total_bill_KRW))"
   ]
  },
  {
   "cell_type": "code",
   "execution_count": null,
   "metadata": {},
   "outputs": [
    {
     "name": "stdout",
     "output_type": "stream",
     "text": [
      "{\n",
      "  \"year\": 2020,\n",
      "  \"world_series_winner\": \"Los Angeles Dodgers\"\n",
      "}\n"
     ]
    }
   ],
   "source": [
    "# json 구조로 답변받기\n",
    "response = client.chat.completions.create(\n",
    "    model = \"gpt-4o-mini\",\n",
    "    response_format = {\"type\": \"json_object\"},\n",
    "    messages=[{\"role\":\"system\", \"content\":\" you are a helpful assistant designed to ouput JSON\"},\n",
    "              {\"role\":\"user\", \"content\": 'who is the winner of 2020 world series'}]\n",
    ")\n",
    "print(response.choices[0].message.content)"
   ]
  }
 ],
 "metadata": {
  "kernelspec": {
   "display_name": "ch03_env",
   "language": "python",
   "name": "python3"
  },
  "language_info": {
   "codemirror_mode": {
    "name": "ipython",
    "version": 3
   },
   "file_extension": ".py",
   "mimetype": "text/x-python",
   "name": "python",
   "nbconvert_exporter": "python",
   "pygments_lexer": "ipython3",
   "version": "3.12.1"
  }
 },
 "nbformat": 4,
 "nbformat_minor": 2
}
